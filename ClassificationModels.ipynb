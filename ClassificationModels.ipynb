{
 "cells": [
  {
   "cell_type": "code",
   "execution_count": 1,
   "metadata": {},
   "outputs": [],
   "source": [
    "from sklearn.datasets import load_breast_cancer\n",
    "from sklearn.model_selection import train_test_split\n",
    "from sklearn.model_selection import cross_val_score\n",
    "from sklearn.linear_model import LogisticRegression\n",
    "from sklearn import svm\n",
    "from sklearn import metrics\n",
    "from sklearn.preprocessing import StandardScaler\n",
    "from sklearn.model_selection import GridSearchCV\n",
    "from sklearn.metrics import classification_report\n",
    "import pandas as pd\n",
    "import numpy as np\n",
    "\n",
    "import matplotlib.pyplot as plt\n",
    "%matplotlib inline\n",
    "\n",
    "import warnings\n",
    "warnings.filterwarnings('ignore')\n"
   ]
  },
  {
   "cell_type": "markdown",
   "metadata": {},
   "source": [
    "<p style=\"font-family: Calibri; font-size:1.2em;color:green;\"> <em> <b> Loaded dataset and put it into a pandas dataframe </b> </em> </p>"
   ]
  },
  {
   "cell_type": "code",
   "execution_count": 2,
   "metadata": {},
   "outputs": [
    {
     "data": {
      "text/html": [
       "<div>\n",
       "<style scoped>\n",
       "    .dataframe tbody tr th:only-of-type {\n",
       "        vertical-align: middle;\n",
       "    }\n",
       "\n",
       "    .dataframe tbody tr th {\n",
       "        vertical-align: top;\n",
       "    }\n",
       "\n",
       "    .dataframe thead th {\n",
       "        text-align: right;\n",
       "    }\n",
       "</style>\n",
       "<table border=\"1\" class=\"dataframe\">\n",
       "  <thead>\n",
       "    <tr style=\"text-align: right;\">\n",
       "      <th></th>\n",
       "      <th>mean radius</th>\n",
       "      <th>mean texture</th>\n",
       "      <th>mean perimeter</th>\n",
       "      <th>mean area</th>\n",
       "      <th>mean smoothness</th>\n",
       "      <th>mean compactness</th>\n",
       "      <th>mean concavity</th>\n",
       "      <th>mean concave points</th>\n",
       "      <th>mean symmetry</th>\n",
       "      <th>mean fractal dimension</th>\n",
       "      <th>...</th>\n",
       "      <th>worst texture</th>\n",
       "      <th>worst perimeter</th>\n",
       "      <th>worst area</th>\n",
       "      <th>worst smoothness</th>\n",
       "      <th>worst compactness</th>\n",
       "      <th>worst concavity</th>\n",
       "      <th>worst concave points</th>\n",
       "      <th>worst symmetry</th>\n",
       "      <th>worst fractal dimension</th>\n",
       "      <th>target</th>\n",
       "    </tr>\n",
       "  </thead>\n",
       "  <tbody>\n",
       "    <tr>\n",
       "      <th>0</th>\n",
       "      <td>17.99</td>\n",
       "      <td>10.38</td>\n",
       "      <td>122.8</td>\n",
       "      <td>1001.0</td>\n",
       "      <td>0.11840</td>\n",
       "      <td>0.27760</td>\n",
       "      <td>0.3001</td>\n",
       "      <td>0.14710</td>\n",
       "      <td>0.2419</td>\n",
       "      <td>0.07871</td>\n",
       "      <td>...</td>\n",
       "      <td>17.33</td>\n",
       "      <td>184.6</td>\n",
       "      <td>2019.0</td>\n",
       "      <td>0.1622</td>\n",
       "      <td>0.6656</td>\n",
       "      <td>0.7119</td>\n",
       "      <td>0.2654</td>\n",
       "      <td>0.4601</td>\n",
       "      <td>0.11890</td>\n",
       "      <td>0</td>\n",
       "    </tr>\n",
       "    <tr>\n",
       "      <th>1</th>\n",
       "      <td>20.57</td>\n",
       "      <td>17.77</td>\n",
       "      <td>132.9</td>\n",
       "      <td>1326.0</td>\n",
       "      <td>0.08474</td>\n",
       "      <td>0.07864</td>\n",
       "      <td>0.0869</td>\n",
       "      <td>0.07017</td>\n",
       "      <td>0.1812</td>\n",
       "      <td>0.05667</td>\n",
       "      <td>...</td>\n",
       "      <td>23.41</td>\n",
       "      <td>158.8</td>\n",
       "      <td>1956.0</td>\n",
       "      <td>0.1238</td>\n",
       "      <td>0.1866</td>\n",
       "      <td>0.2416</td>\n",
       "      <td>0.1860</td>\n",
       "      <td>0.2750</td>\n",
       "      <td>0.08902</td>\n",
       "      <td>0</td>\n",
       "    </tr>\n",
       "  </tbody>\n",
       "</table>\n",
       "<p>2 rows × 31 columns</p>\n",
       "</div>"
      ],
      "text/plain": [
       "   mean radius  mean texture  mean perimeter  mean area  mean smoothness  \\\n",
       "0        17.99         10.38           122.8     1001.0          0.11840   \n",
       "1        20.57         17.77           132.9     1326.0          0.08474   \n",
       "\n",
       "   mean compactness  mean concavity  mean concave points  mean symmetry  \\\n",
       "0           0.27760          0.3001              0.14710         0.2419   \n",
       "1           0.07864          0.0869              0.07017         0.1812   \n",
       "\n",
       "   mean fractal dimension  ...  worst texture  worst perimeter  worst area  \\\n",
       "0                 0.07871  ...          17.33            184.6      2019.0   \n",
       "1                 0.05667  ...          23.41            158.8      1956.0   \n",
       "\n",
       "   worst smoothness  worst compactness  worst concavity  worst concave points  \\\n",
       "0            0.1622             0.6656           0.7119                0.2654   \n",
       "1            0.1238             0.1866           0.2416                0.1860   \n",
       "\n",
       "   worst symmetry  worst fractal dimension  target  \n",
       "0          0.4601                  0.11890       0  \n",
       "1          0.2750                  0.08902       0  \n",
       "\n",
       "[2 rows x 31 columns]"
      ]
     },
     "execution_count": 2,
     "metadata": {},
     "output_type": "execute_result"
    }
   ],
   "source": [
    "data = load_breast_cancer()\n",
    "df = pd.DataFrame(data.data, columns = data.feature_names)\n",
    "df['target'] = pd.Series(data.target)\n",
    "df.head(2)"
   ]
  },
  {
   "cell_type": "markdown",
   "metadata": {},
   "source": [
    "<p style=\"font-family: Calibri; font-size:1.2em;color:green;\"> <em> <b> Split data into test and train sets of equal sizes </b> </em> </p>"
   ]
  },
  {
   "cell_type": "code",
   "execution_count": 23,
   "metadata": {},
   "outputs": [
    {
     "data": {
      "text/plain": [
       "Series([], Name: target, dtype: int32)"
      ]
     },
     "execution_count": 23,
     "metadata": {},
     "output_type": "execute_result"
    }
   ],
   "source": [
    "x = df.iloc[:, 0:30]\n",
    "y = df.iloc[:, -1]\n",
    "xTrain, xTest, yTrain, yTest = train_test_split(x, y, test_size = 0.5, random_state = 0)\n",
    "x.shape\n",
    "y.shape\n",
    "y.head(0)"
   ]
  },
  {
   "cell_type": "markdown",
   "metadata": {},
   "source": [
    "<p style=\"font-family: Calibri; font-size:1.2em;color:green;\"> <em> <b> Logistic Regression on unscaled data </b> </em> </p>"
   ]
  },
  {
   "cell_type": "code",
   "execution_count": 4,
   "metadata": {},
   "outputs": [
    {
     "name": "stdout",
     "output_type": "stream",
     "text": [
      "0.9543859649122807\n"
     ]
    }
   ],
   "source": [
    "logisticRegr = LogisticRegression()\n",
    "logisticRegr.fit(xTrain, yTrain)\n",
    "logisticRegr.predict(xTest)\n",
    "score = logisticRegr.score(xTest, yTest)\n",
    "print(score)"
   ]
  },
  {
   "cell_type": "markdown",
   "metadata": {},
   "source": [
    "<p style=\"font-family: Calibri; font-size:1.2em;color:green;\"> <em> <b> Linear SVM on unscaled data </b> </em> </p>"
   ]
  },
  {
   "cell_type": "code",
   "execution_count": 5,
   "metadata": {},
   "outputs": [
    {
     "name": "stdout",
     "output_type": "stream",
     "text": [
      "0.9578947368421052\n"
     ]
    }
   ],
   "source": [
    "linear_svc = svm.SVC(kernel='linear')\n",
    "linear_svc.fit(xTrain, yTrain)\n",
    "linear_svc.predict(xTest)\n",
    "score = linear_svc.score(xTest, yTest)\n",
    "print(score)"
   ]
  },
  {
   "cell_type": "markdown",
   "metadata": {},
   "source": [
    "<p style=\"font-family: Calibri; font-size:1.2em;color:green;\"> <em> <b> SVM using RBF kernel on unscaled data </b> </em> </p>"
   ]
  },
  {
   "cell_type": "code",
   "execution_count": 59,
   "metadata": {},
   "outputs": [
    {
     "name": "stdout",
     "output_type": "stream",
     "text": [
      "0.6456140350877193\n"
     ]
    }
   ],
   "source": [
    "rbf_svc = svm.SVC(kernel='rbf')\n",
    "rbf_svc.fit(xTrain, yTrain)\n",
    "rbf_svc.predict(xTest)\n",
    "scores = rbf_svc.score(xTest, yTest)\n",
    "print(scores)"
   ]
  },
  {
   "cell_type": "markdown",
   "metadata": {},
   "source": [
    "<p style=\"font-family: Calibri; font-size:1.2em;color:green;\"> <em> <b> Standardization of data using StandardScalar </b> </em> </p>"
   ]
  },
  {
   "cell_type": "code",
   "execution_count": 60,
   "metadata": {},
   "outputs": [
    {
     "data": {
      "text/plain": [
       "array([[-0.06748072, -0.5425099 , -0.13870518, ..., -0.59909152,\n",
       "        -0.59762835, -0.98560064],\n",
       "       [ 2.03933888,  0.6929602 ,  2.08132715, ...,  1.95859652,\n",
       "         1.40932162,  0.91648179],\n",
       "       [-0.91020856, -1.08757024, -0.91378691, ..., -0.78054011,\n",
       "         0.44660079, -0.61298813],\n",
       "       ...,\n",
       "       [-1.35780308, -0.26634599, -1.35454356, ..., -1.04745929,\n",
       "        -0.70374295, -0.14639814],\n",
       "       [-1.27855318, -0.2905709 , -1.31757687, ..., -1.83974821,\n",
       "        -1.54189447, -1.01307944],\n",
       "       [-0.77905555,  1.09267111, -0.75738939, ..., -0.32589926,\n",
       "        -1.22970226,  0.18114914]])"
      ]
     },
     "execution_count": 60,
     "metadata": {},
     "output_type": "execute_result"
    }
   ],
   "source": [
    "scaler = StandardScaler()\n",
    "x_scaled_train = scaler.fit_transform(xTrain.to_numpy())\n",
    "x_scaled_test  = scaler.transform(xTest.to_numpy())\n",
    "x_scaled_train"
   ]
  },
  {
   "cell_type": "markdown",
   "metadata": {},
   "source": [
    "<p style=\"font-family: Calibri; font-size:1.2em;color:green;\"> <em> <b> Applying logistic regression on scaled data </b> </em> </p>"
   ]
  },
  {
   "cell_type": "code",
   "execution_count": 8,
   "metadata": {},
   "outputs": [
    {
     "name": "stdout",
     "output_type": "stream",
     "text": [
      "0.9789473684210527\n"
     ]
    }
   ],
   "source": [
    "logisticRegr_scaled = LogisticRegression()\n",
    "logisticRegr_scaled.fit(x_scaled_train, yTrain)\n",
    "logisticRegr_scaled.predict(x_scaled_test)\n",
    "score = logisticRegr_scaled.score(x_scaled_test, yTest)\n",
    "print(score)"
   ]
  },
  {
   "cell_type": "markdown",
   "metadata": {},
   "source": [
    "<p style=\"font-family: Calibri; font-size:1.2em;color:green;\"> <em> <b> Applying linear SVC on scaled data </b> </em> </p>"
   ]
  },
  {
   "cell_type": "code",
   "execution_count": 9,
   "metadata": {},
   "outputs": [
    {
     "name": "stdout",
     "output_type": "stream",
     "text": [
      "0.9649122807017544\n"
     ]
    }
   ],
   "source": [
    "linear_svc_scaled = svm.SVC(kernel='linear')\n",
    "linear_svc_scaled.fit(x_scaled_train, yTrain)\n",
    "linear_svc_scaled.predict(x_scaled_test)\n",
    "linear_svc_scaled.score(x_scaled_test, yTest)\n",
    "scores = linear_svc_scaled.score(x_scaled_test, yTest)\n",
    "print(scores)"
   ]
  },
  {
   "cell_type": "markdown",
   "metadata": {},
   "source": [
    "<p style=\"font-family: Calibri; font-size:1.2em;color:green;\"> <em> <b> Applying RBF SVC on scaled data </b> </em> </p>"
   ]
  },
  {
   "cell_type": "code",
   "execution_count": 10,
   "metadata": {},
   "outputs": [
    {
     "name": "stdout",
     "output_type": "stream",
     "text": [
      "0.9719298245614035\n"
     ]
    }
   ],
   "source": [
    "rbf_svc = svm.SVC(kernel='rbf')\n",
    "rbf_svc.fit(x_scaled_train, yTrain)\n",
    "rbf_svc.predict(x_scaled_test)\n",
    "scores = rbf_svc.score(x_scaled_test, yTest)\n",
    "print(scores)"
   ]
  },
  {
   "cell_type": "markdown",
   "metadata": {},
   "source": [
    "<p style=\"font-family: Calibri; font-size:1.2em;color:green;\"> <em> <b> Finding the best C value using grid search and checking accuracy for a logistic regression model </b> </em> </p>"
   ]
  },
  {
   "cell_type": "code",
   "execution_count": 47,
   "metadata": {},
   "outputs": [
    {
     "name": "stdout",
     "output_type": "stream",
     "text": [
      "Best parameters set found on development set:\n",
      "\n",
      "{'C': 100}\n",
      "\n",
      "Grid scores on development set:\n",
      "\n",
      "0.9753424657534246\n"
     ]
    }
   ],
   "source": [
    "tuned_parameters = [ {'C': [0.001,0.01,0.1,1,10,100]}]\n",
    "logreg=LogisticRegression()\n",
    "clf_lr = GridSearchCV(logreg, tuned_parameters, cv=5, scoring='f1')\n",
    "clf_lr.fit(xTrain, yTrain)\n",
    "\n",
    "means_lr = clf_lr.cv_results_['mean_test_score']\n",
    "std_lr   = clf_lr.cv_results_['std_test_score']\n",
    "\n",
    "print(\"Best parameters set found on development set:\")\n",
    "print()\n",
    "print(clf_lr.best_params_)\n",
    "print()\n",
    "print(\"Grid scores on development set:\")\n",
    "print()\n",
    "clf_lr.predict(xTest)\n",
    "score = clf_lr.score(xTest, yTest)\n",
    "print(score)"
   ]
  },
  {
   "cell_type": "markdown",
   "metadata": {},
   "source": [
    "<p style=\"font-family: Calibri; font-size:1.2em;color:green;\"> <em> <b> Finding the best C value using grid search and checking accuracy for a linear SVM model </b> </em> </p>"
   ]
  },
  {
   "cell_type": "code",
   "execution_count": 50,
   "metadata": {
    "scrolled": true
   },
   "outputs": [
    {
     "name": "stdout",
     "output_type": "stream",
     "text": [
      "Best parameters set found on development set:\n",
      "\n",
      "{'C': 0.1, 'kernel': 'linear'}\n",
      "\n",
      "Grid scores on development set:\n",
      "\n",
      "0.958904109589041\n"
     ]
    }
   ],
   "source": [
    "tuned_parameters = [ {'kernel': ['linear'], 'C': [0.001,0.01,0.1,1,10,100, 1000]}]\n",
    "clf_linear = GridSearchCV(svm.SVC(), tuned_parameters, cv=5, scoring='f1')\n",
    "clf_linear.fit(xTrain, yTrain)\n",
    "\n",
    "means_linear = clf_linear.cv_results_['mean_test_score']\n",
    "std_linear   = clf_linear.cv_results_['std_test_score']\n",
    "\n",
    "print(\"Best parameters set found on development set:\")\n",
    "print()\n",
    "print(clf_linear.best_params_)\n",
    "print()\n",
    "print(\"Grid scores on development set:\")\n",
    "print()\n",
    "clf_linear.predict(xTest)\n",
    "score = clf_linear.score(xTest, yTest)\n",
    "print(score)\n"
   ]
  },
  {
   "cell_type": "markdown",
   "metadata": {},
   "source": [
    "<p style=\"font-family: Calibri; font-size:1.2em;color:green;\"> <em> <b> Finding the best C value using grid search and checking accuracy for a rbf SVM model </b> </em> </p>"
   ]
  },
  {
   "cell_type": "code",
   "execution_count": 49,
   "metadata": {},
   "outputs": [
    {
     "name": "stdout",
     "output_type": "stream",
     "text": [
      "Best parameters set found on development set:\n",
      "\n",
      "{'C': 1, 'gamma': 0.0001, 'kernel': 'rbf'}\n",
      "\n",
      "Grid scores on development set:\n",
      "\n",
      "0.964769647696477\n"
     ]
    }
   ],
   "source": [
    "tuned_parameters = [ {'kernel': ['rbf'], 'C': [0.001,0.01,0.1,1,10,100, 1000], 'gamma': [0.001, 0.0001]}]\n",
    "clf_rbf = GridSearchCV(svm.SVC(), tuned_parameters, cv=5, scoring='f1')\n",
    "clf_rbf.fit(xTrain, yTrain)\n",
    "\n",
    "means_rbf = clf_rbf.cv_results_['mean_test_score']\n",
    "std_rbf   = clf_rbf.cv_results_['std_test_score']\n",
    "\n",
    "print(\"Best parameters set found on development set:\")\n",
    "print()\n",
    "print(clf_rbf.best_params_)\n",
    "print()\n",
    "print(\"Grid scores on development set:\")\n",
    "print()\n",
    "clf_rbf.predict(xTest)\n",
    "score = clf_rbf.score(xTest, yTest)\n",
    "print(score)\n"
   ]
  },
  {
   "cell_type": "code",
   "execution_count": 14,
   "metadata": {},
   "outputs": [
    {
     "data": {
      "image/png": "[encoded data removed]",
      "text/plain": [
       "<Figure size 576x576 with 1 Axes>"
      ]
     },
     "metadata": {
      "needs_background": "light"
     },
     "output_type": "display_data"
    }
   ],
   "source": [
    "C_param_range =  [0.001,0.01,0.1,1,10,100]\n",
    "plt.figure(figsize=(8,8))\n",
    "plt.plot(C_param_range, means_lr)\n",
    "plt.title('C vs mean_scores for Logistic Regression')\n",
    "plt.xlabel('C')\n",
    "plt.ylabel('mean_scores')\n",
    "plt.show()"
   ]
  },
  {
   "cell_type": "code",
   "execution_count": 15,
   "metadata": {},
   "outputs": [
    {
     "data": {
      "image/png": "[encoded data removed]",
      "text/plain": [
       "<Figure size 576x576 with 1 Axes>"
      ]
     },
     "metadata": {
      "needs_background": "light"
     },
     "output_type": "display_data"
    }
   ],
   "source": [
    "C_param_range = [0.001,0.01,0.1,1,10,100, 1000]\n",
    "plt.figure(figsize=(8,8))\n",
    "plt.plot(C_param_range, means_linear)\n",
    "plt.title('C vs mean_scores for SVM with linear kernel')\n",
    "plt.xlabel('C')\n",
    "plt.ylabel('mean_scores')\n",
    "plt.show()"
   ]
  },
  {
   "cell_type": "code",
   "execution_count": 16,
   "metadata": {},
   "outputs": [
    {
     "data": {
      "image/png": "[encoded data removed]",
      "text/plain": [
       "<Figure size 576x576 with 1 Axes>"
      ]
     },
     "metadata": {
      "needs_background": "light"
     },
     "output_type": "display_data"
    }
   ],
   "source": [
    "C_param_range = [0.001,0.01,0.1,1,10,100, 1000]\n",
    "Gammas = [1e-3, 1e-4]\n",
    "plt.figure(figsize=(8,8))\n",
    "\n",
    "scores = np.array(means_rbf).reshape(len(C_param_range), len(Gammas))\n",
    "\n",
    "for i, c in enumerate(C_param_range):\n",
    "    plt.plot(Gammas, scores[i], label='C: '+str(c))\n",
    "\n",
    "plt.title('C and Gamma vs mean_scores for SVM with rbf kernel')\n",
    "plt.legend()\n",
    "plt.xlabel('Gamma')\n",
    "plt.ylabel('mean_scores')\n",
    "plt.show()"
   ]
  },
  {
   "cell_type": "markdown",
   "metadata": {},
   "source": [
    "<p style=\"font-family: Calibri; font-size:1.2em;color:green;\"> <em> <b> Final results for each experiment </b> </em> </p>"
   ]
  },
  {
   "cell_type": "markdown",
   "metadata": {},
   "source": [
    "| Model | Unscaled | Scaled | Tuned |\n",
    "|--- |--- |--- |--- |\n",
    "| Logistic     | 0.954 | 0.979 | 0.975 |\n",
    "| SVM - Linear | 0.958 | 0.965 | 0.959 |\n",
    "| SVM - RBF    | 0.646 | 0.972 | 0.965 |"
   ]
  },
  {
   "cell_type": "markdown",
   "metadata": {},
   "source": [
    "<p style=\"font-family: Calibri; font-size:1.2em;color:green;\"> <em> <b> Inferences: \n",
    "    <br> Accuracy increases when data is scaled, especially for SVM using RBF kernel. </br>\n",
    "    <br> This is because SVM tries to maximise the distance between the margins and the seperating plane. </br>\n",
    "    <br> To avoid certain features in an unscaled dataset dominating our results, we need to scale data. </br>\n",
    "    <br> SVM assumes that the data it works with is in a standard range. To avoid skewing results, it is better to scale the data before applying the SVM model.</br> </em> </p>"
   ]
  },
  {
   "cell_type": "code",
   "execution_count": 73,
   "metadata": {},
   "outputs": [
    {
     "data": {
      "text/plain": [
       "[('worst concavity', -1.0813605482521562),\n",
       " ('worst compactness', -0.7010775842459611),\n",
       " ('worst symmetry', -0.4250709651384051),\n",
       " ('mean concavity', -0.42182006674573636),\n",
       " ('worst concave points', -0.42032218402417343),\n",
       " ('worst perimeter', -0.27751505737217785),\n",
       " ('mean compactness', -0.2710190648563588),\n",
       " ('worst texture', -0.22685921976938836),\n",
       " ('mean concave points', -0.2118062929271349),\n",
       " ('mean symmetry', -0.18731178972025264),\n",
       " ('worst smoothness', -0.11305416387235649),\n",
       " ('area error', -0.07548951235762612),\n",
       " ('concavity error', -0.06805153606114288),\n",
       " ('mean smoothness', -0.0679577546498926),\n",
       " ('worst fractal dimension', -0.0661517833258433),\n",
       " ('symmetry error', -0.03977163289543958),\n",
       " ('concave points error', -0.03122299027159026),\n",
       " ('compactness error', -0.027267143184192284),\n",
       " ('worst area', -0.025169797667588555),\n",
       " ('mean fractal dimension', -0.011588164546870361),\n",
       " ('smoothness error', -0.006199821318904994),\n",
       " ('fractal dimension error', 0.0004150256909263813),\n",
       " ('mean area', 0.0006001828884329892),\n",
       " ('radius error', 0.025391064209578172),\n",
       " ('mean texture', 0.07964323912525738),\n",
       " ('mean perimeter', 0.1468543274764132),\n",
       " ('perimeter error', 0.21914634558306978),\n",
       " ('texture error', 0.3074496267939563),\n",
       " ('worst radius', 1.313558826702993),\n",
       " ('mean radius', 1.4958737665708632)]"
      ]
     },
     "execution_count": 73,
     "metadata": {},
     "output_type": "execute_result"
    }
   ],
   "source": [
    "clf_lr.best_estimator_.coef_\n",
    "coeff_lr = {}\n",
    "for i, val in enumerate(xTrain):\n",
    "    coeff_lr[val] = logisticRegr.coef_[0][i]\n",
    "coeff_lr\n",
    "sorted_coeff_lr = sorted(coeff_lr.items(), key=lambda kv: kv[1])\n",
    "sorted_coeff_lr"
   ]
  },
  {
   "cell_type": "code",
   "execution_count": 77,
   "metadata": {},
   "outputs": [
    {
     "data": {
      "text/plain": [
       "[('worst concavity', -0.8467767736524545),\n",
       " ('worst symmetry', -0.5187393212340254),\n",
       " ('worst concave points', -0.4232719660968296),\n",
       " ('mean concavity', -0.3731867129637269),\n",
       " ('mean symmetry', -0.3044916046208975),\n",
       " ('mean concave points', -0.2173663271975496),\n",
       " ('worst perimeter', -0.19404405002501335),\n",
       " ('worst smoothness', -0.18423321449660474),\n",
       " ('worst compactness', -0.17572893287675362),\n",
       " ('mean compactness', -0.1517471168475817),\n",
       " ('worst texture', -0.14124846532610036),\n",
       " ('mean smoothness', -0.12030100270280775),\n",
       " ('mean perimeter', -0.10320357369418787),\n",
       " ('concavity error', -0.04504427195209587),\n",
       " ('symmetry error', -0.04206475741997397),\n",
       " ('area error', -0.04051614407889659),\n",
       " ('concave points error', -0.034952330297121775),\n",
       " ('worst fractal dimension', -0.025495969482297126),\n",
       " ('mean fractal dimension', -0.015072388867718799),\n",
       " ('smoothness error', -0.013559055573396279),\n",
       " ('worst area', -0.012363254449496708),\n",
       " ('texture error', 0.009405769366028105),\n",
       " ('fractal dimension error', 0.016792351669446995),\n",
       " ('mean area', 0.019672325902888588),\n",
       " ('mean texture', 0.021891404567860206),\n",
       " ('compactness error', 0.05391467123242493),\n",
       " ('radius error', 0.08090917293543506),\n",
       " ('perimeter error', 0.22895332895263865),\n",
       " ('worst radius', 0.4647540666266323),\n",
       " ('mean radius', 0.6979903667896732)]"
      ]
     },
     "execution_count": 77,
     "metadata": {},
     "output_type": "execute_result"
    }
   ],
   "source": [
    "coeff_linear = {}\n",
    "for i, val in enumerate(xTrain):\n",
    "    coeff_linear[val] = linear_svc.coef_[0][i]\n",
    "coeff_linear\n",
    "sorted_coeff_linear = sorted(coeff_linear.items(), key=lambda kv: kv[1])\n",
    "sorted_coeff_linear"
   ]
  },
  {
   "cell_type": "markdown",
   "metadata": {},
   "source": [
    "<p style=\"font-family: Calibri; font-size:1.2em;color:green;\"> <em> <b> Inferences: \n",
    "    <br> The 'mean radius' feature has the most impact on classification using logistic as well as SVM with linear kernel. </br> </em> </p>"
   ]
  }
 ],
 "metadata": {
  "kernelspec": {
   "display_name": "Python 3",
   "language": "python",
   "name": "python3"
  },
  "language_info": {
   "codemirror_mode": {
    "name": "ipython",
    "version": 3
   },
   "file_extension": ".py",
   "mimetype": "text/x-python",
   "name": "python",
   "nbconvert_exporter": "python",
   "pygments_lexer": "ipython3",
   "version": "3.7.4"
  }
 },
 "nbformat": 4,
 "nbformat_minor": 2
}
